{
 "cells": [
  {
   "cell_type": "markdown",
   "metadata": {
    "vscode": {
     "languageId": "raw"
    }
   },
   "source": [
    "### Basic Maths"
   ]
  },
  {
   "cell_type": "markdown",
   "metadata": {},
   "source": [
    "Concept of Base of 2, 10 and so on"
   ]
  },
  {
   "cell_type": "code",
   "execution_count": 7,
   "metadata": {
    "vscode": {
     "languageId": "rust"
    }
   },
   "outputs": [
    {
     "name": "stdout",
     "output_type": "stream",
     "text": [
      "Welcome to Hogwarts' Arithmancy Class: The Magic of Number Bases!\n",
      "\n",
      "🧙 Professor McGonagall demonstrates Base 10:\n",
      "The number 123 in decimal means:\n",
      "  1 × 100 + 2 × 10 + 3 × 1 = 123\n",
      "\n",
      "🏦 Gringotts Goblin Security System (Base 2):\n",
      "Vault code 13 must be entered in binary using Lumos (1) and Nox (0) spells!\n",
      "Converting 13 to binary - Algorithm:\n",
      "  1. Check if each power of 2 fits into our number\n",
      "  2. If it fits, use it and subtract from remaining value\n",
      "  3. Continue until we reach 0\n",
      "  8 power: ✓ (5 remaining)\n",
      "  4 power: ✓ (1 remaining)\n",
      "  2 power: ✗ (1 remaining)\n",
      "  1 power: ✓ (0 remaining)\n",
      "The binary code is: 1101 (or 1101 by wand-casting)\n",
      "\n",
      "📜 Ancient Runes Translation (Base 16):\n",
      "Spell #250 in hexadecimal:\n",
      "Algorithm: Divide by 16 repeatedly, collect remainders in reverse order\n",
      "Dividing by 16: 250 ÷ 16 = 15 remainder 10\n",
      "Translating to runes: FA (or FA by spell-check)\n"
     ]
    }
   ],
   "source": [
    "fn main() {\n",
    "    println!(\"Welcome to Hogwarts' Arithmancy Class: The Magic of Number Bases!\");\n",
    "    \n",
    "    // Base 10 (Decimal) explanation\n",
    "    let galleons = 123;\n",
    "    println!(\"\\n🧙 Professor McGonagall demonstrates Base 10:\");\n",
    "    println!(\"The number {} in decimal means:\", galleons);\n",
    "    println!(\"  {} × 100 + {} × 10 + {} × 1 = {}\", \n",
    "        galleons / 100, (galleons % 100) / 10, galleons % 10, galleons);\n",
    "    \n",
    "    // Base 2 (Binary) - Algorithm: Divide by powers of 2 and track remainders\n",
    "    let vault_code = 13;\n",
    "    println!(\"\\n🏦 Gringotts Goblin Security System (Base 2):\");\n",
    "    println!(\"Vault code {} must be entered in binary using Lumos (1) and Nox (0) spells!\", vault_code);\n",
    "    \n",
    "    println!(\"Converting {} to binary - Algorithm:\", vault_code);\n",
    "    println!(\"  1. Check if each power of 2 fits into our number\");\n",
    "    println!(\"  2. If it fits, use it and subtract from remaining value\");\n",
    "    println!(\"  3. Continue until we reach 0\");\n",
    "    \n",
    "    let mut remaining = vault_code;\n",
    "    let powers = [8, 4, 2, 1]; // Powers of 2 we'll check\n",
    "    \n",
    "    for &power in &powers {\n",
    "        let use_power = remaining >= power;\n",
    "        if use_power { remaining -= power; }\n",
    "        println!(\"  {} power: {} ({} remaining)\", \n",
    "            power, if use_power {\"✓\"} else {\"✗\"}, remaining);\n",
    "    }\n",
    "    \n",
    "    println!(\"The binary code is: {} (or {:b} by wand-casting)\", format!(\"{:b}\", vault_code), vault_code);\n",
    "    \n",
    "    // Base 16 (Hexadecimal) - Algorithm: Divide by 16 repeatedly, collect remainders\n",
    "    let spell_id = 250;\n",
    "    println!(\"\\n📜 Ancient Runes Translation (Base 16):\");\n",
    "    println!(\"Spell #{} in hexadecimal:\", spell_id);\n",
    "    println!(\"Algorithm: Divide by 16 repeatedly, collect remainders in reverse order\");\n",
    "    \n",
    "    let hex_digit_16s = spell_id / 16;\n",
    "    let hex_digit_1s = spell_id % 16;\n",
    "    \n",
    "    let to_hex_char = |n: u32| -> char {\n",
    "        match n {\n",
    "            0..=9 => (n as u8 + b'0') as char,\n",
    "            10..=15 => (n as u8 - 10 + b'A') as char,\n",
    "            _ => panic!(\"Magical anomaly detected!\")\n",
    "        }\n",
    "    };\n",
    "    \n",
    "    println!(\"Dividing by 16: {} ÷ 16 = {} remainder {}\", \n",
    "        spell_id, hex_digit_16s, hex_digit_1s);\n",
    "    println!(\"Translating to runes: {}{} (or {:X} by spell-check)\", \n",
    "        to_hex_char(hex_digit_16s), to_hex_char(hex_digit_1s), spell_id);\n",
    "}\n",
    "\n",
    "main();"
   ]
  }
 ],
 "metadata": {
  "kernelspec": {
   "display_name": "Rust",
   "language": "rust",
   "name": "rust"
  },
  "language_info": {
   "codemirror_mode": "rust",
   "file_extension": ".rs",
   "mimetype": "text/rust",
   "name": "Rust",
   "pygment_lexer": "rust",
   "version": ""
  }
 },
 "nbformat": 4,
 "nbformat_minor": 2
}
